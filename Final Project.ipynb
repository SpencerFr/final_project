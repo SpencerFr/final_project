{
 "cells": [
  {
   "cell_type": "markdown",
   "metadata": {},
   "source": [
    "# Perform a simple Monte Carlo Integration"
   ]
  },
  {
   "cell_type": "code",
   "execution_count": null,
   "metadata": {},
   "outputs": [],
   "source": [
    "%matplotlib inline\n",
    "import matplotlib.pyplot as plt\n",
    "import numpy as np"
   ]
  },
  {
   "cell_type": "markdown",
   "metadata": {},
   "source": [
    "# Set some parameters of the integration"
   ]
  },
  {
   "cell_type": "code",
   "execution_count": null,
   "metadata": {},
   "outputs": [],
   "source": [
    "n = 10000 #number of samples for the integration"
   ]
  },
  {
   "cell_type": "markdown",
   "metadata": {},
   "source": [
    "# Define the function to integrate"
   ]
  },
  {
   "cell_type": "code",
   "execution_count": null,
   "metadata": {},
   "outputs": [],
   "source": [
    "#Define the function that will be integrated \n",
    "def func(x):\n",
    "    return np.cos(x)\n",
    "\n",
    "\n",
    "#Define the limits from a to be in which it will be integrated\n",
    "a = 0\n",
    "b = 1.75\n",
    "\n",
    "#The limits of the y axis from c to d\n",
    "if (func(a)<func(b)):\n",
    "    c = func(a)\n",
    "    d = func(b)\n",
    "else:\n",
    "    c = func(b)\n",
    "    d = func(a)"
   ]
  },
  {
   "cell_type": "markdown",
   "metadata": {},
   "source": [
    "# Make some uniformly distributed random variables"
   ]
  },
  {
   "cell_type": "code",
   "execution_count": null,
   "metadata": {},
   "outputs": [],
   "source": [
    "flag = 1\n",
    "tol = 0.0002\n",
    "imax = 1000\n",
    "i = 0 \n",
    "#int_approx1 = 0.0\n",
    "while(flag):\n",
    "    \n",
    "    x = np.random.uniform(a,b,n)\n",
    "    y = np.random.uniform(c,d,n)\n",
    "    function = func(x)\n",
    "\n",
    "    # Find the number of samples inside and outside the function\n",
    "    infunc = np.where((function>=y)&(function>=0)&(y>=0))[0]\n",
    "    infunc2 = np.where((function<y)&(y<0))[0]\n",
    "\n",
    "    outfunc = np.where((function<y)&(y>=0))[0]\n",
    "    outfunc2 = np.where((y<0)&(function>=0))[0]\n",
    "    outfunc3 = np.where((function<0)&(function>=y))[0]\n",
    "    \n",
    "    \n",
    "    #Getting the results\n",
    "    int_approx0 = ((d-c)*(b-a)) * (len(infunc)-len(infunc2))/float(n)\n",
    "    print(int_approx0, int_approx1)\n",
    "    \n",
    "    #What is the error\n",
    "    actual_error = (int_approx0-np.sin(1.75))/np.sin(1.75) #This is just for Cos(x)\n",
    "    \n",
    "    if (i>=1):\n",
    "        if (np.fabs(error_int) < tol):\n",
    "\n",
    "            print(\"Number of samples = \",n)\n",
    "            print(\"Approximate Integral = \", int_approx0)\n",
    "            print(\"Approximate Error in Integral = \",error_int)\n",
    "            print(\"Actual error = \",actual_error)\n",
    "        \n",
    "            flag = 0 #stop the iteration\n",
    "        else:\n",
    "                \n",
    "                #Printing the results\n",
    "                print(\"Number of samples = \",n)\n",
    "                print(\"Approximate Integral = \", int_approx0)\n",
    "                print(\"Error in Integral = \",error_int)\n",
    "                print(\"Actual error = \",actual_error)\n",
    "                error_int = ((int_approx1 - int_approx0)/int_approx1)\n",
    "                int_approx1 = int_approx0\n",
    "                i += 1\n",
    "                n += 2000\n",
    "            \n",
    "    else:\n",
    "        i += 1\n",
    "        error_int = 1.0\n",
    "        \n",
    "    if(i>=imax):\n",
    "            print(\"Max iteration reached.\")\n",
    "            raise StopIteration('Stopping iteration after ',i)"
   ]
  },
  {
   "cell_type": "markdown",
   "metadata": {},
   "source": [
    "# Report the result, plot the samples and the Function"
   ]
  },
  {
   "cell_type": "code",
   "execution_count": null,
   "metadata": {},
   "outputs": [],
   "source": [
    "#Getting the results\n",
    "#int_approx = (d-c)*(b-a) * (len(infunc)-len(infunc2))/float(n)\n",
    "\n",
    "#What is the error\n",
    "#error_int = (int_approx-np.sin(1.75))/np.sin(1.75)\n",
    "\n",
    "\n",
    "fig = plt.figure(figsize=(7,7))\n",
    "\n",
    "#The limits of the graph\n",
    "plt.xlim([a,b])\n",
    "plt.ylim([c,d])\n",
    "\n",
    "#Plotting the samples\n",
    "plt.plot(x[infunc],y[infunc],'.',ms=0.4,label=\"Inside Function\",color=\"blue\")\n",
    "plt.plot(x[outfunc],y[outfunc],'.',ms=0.4,label=\"Outside Function\", color=\"black\")\n",
    "\n",
    "plt.plot(x[infunc2],y[infunc2],'.',ms=0.4,color=\"blue\")\n",
    "plt.plot(x[outfunc2],y[outfunc2],'.',ms=0.4,color=\"black\")\n",
    "plt.plot(x[outfunc3],y[outfunc3],'.',ms=0.4,color=\"black\")\n",
    "\n",
    "\n",
    "xc = np.arange(0,5,.01) \n",
    "y = func(xc)\n",
    "z = 0*x\n",
    "plt.plot(xc,y,z,label=\"Integrated Function\",color=\"green\")\n",
    "\n",
    "plt.gca().set_aspect('equal')\n",
    "plt.xlabel('x')\n",
    "plt.ylabel('y')\n",
    "plt.legend( title=f'F(a,b) = {int_approx}', bbox_to_anchor=(1, 1.025), loc=2)\n",
    "plt.show()\n",
    "\n",
    "#Printing the results\n",
    "#print(\"Number of samples = \",n)\n",
    "#print(\"Approximate Integral = \", int_approx)\n",
    "#print(\"Error in Integral = \",error_int)"
   ]
  },
  {
   "cell_type": "code",
   "execution_count": null,
   "metadata": {},
   "outputs": [],
   "source": []
  }
 ],
 "metadata": {
  "kernelspec": {
   "display_name": "Python 3",
   "language": "python",
   "name": "python3"
  },
  "language_info": {
   "codemirror_mode": {
    "name": "ipython",
    "version": 3
   },
   "file_extension": ".py",
   "mimetype": "text/x-python",
   "name": "python",
   "nbconvert_exporter": "python",
   "pygments_lexer": "ipython3",
   "version": "3.8.6"
  }
 },
 "nbformat": 4,
 "nbformat_minor": 4
}
